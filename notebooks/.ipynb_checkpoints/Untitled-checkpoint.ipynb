{
 "cells": [
  {
   "cell_type": "code",
   "execution_count": 1,
   "metadata": {},
   "outputs": [
    {
     "data": {
      "text/html": [
       "<style>.container { width:100% !important; }</style>"
      ],
      "text/plain": [
       "<IPython.core.display.HTML object>"
      ]
     },
     "metadata": {},
     "output_type": "display_data"
    }
   ],
   "source": [
    "from IPython.core.display import display, HTML\n",
    "display(HTML(\"<style>.container { width:100% !important; }</style>\"))\n",
    "%matplotlib inline\n"
   ]
  },
  {
   "cell_type": "code",
   "execution_count": 47,
   "metadata": {},
   "outputs": [],
   "source": [
    "import sys\n",
    "sys.path.append('/home/courtney/voxelmorph/src')\n",
    "\n",
    "import numpy as np\n",
    "import tensorflow as tf\n",
    "from losses import normalize"
   ]
  },
  {
   "cell_type": "code",
   "execution_count": 53,
   "metadata": {
    "collapsed": true
   },
   "outputs": [],
   "source": [
    "def normalize(features):\n",
    "    mean = tf.reduce_mean(features, axis=(1, 2, 3), keepdims=False)\n",
    "    var = tf.reduce_mean(tf.square(features - mean), axis=(1,2,3), keepdims=False)\n",
    "    return (features - mean)/var"
   ]
  },
  {
   "cell_type": "code",
   "execution_count": 23,
   "metadata": {
    "collapsed": true
   },
   "outputs": [],
   "source": [
    "a = [[1, 2, 3, 4], [1, 2, 3, 4]]"
   ]
  },
  {
   "cell_type": "code",
   "execution_count": 30,
   "metadata": {},
   "outputs": [],
   "source": [
    "b = np.array(a)*2"
   ]
  },
  {
   "cell_type": "code",
   "execution_count": 33,
   "metadata": {},
   "outputs": [],
   "source": [
    "c = np.array([a, b])"
   ]
  },
  {
   "cell_type": "code",
   "execution_count": 37,
   "metadata": {},
   "outputs": [
    {
     "data": {
      "text/plain": [
       "(3, 2, 2, 4)"
      ]
     },
     "execution_count": 37,
     "metadata": {},
     "output_type": "execute_result"
    }
   ],
   "source": [
    "d = np.array([c, 3*c, 2*c])\n",
    "d.shape"
   ]
  },
  {
   "cell_type": "code",
   "execution_count": 38,
   "metadata": {},
   "outputs": [],
   "source": [
    "e = np.array([d, 5*d])"
   ]
  },
  {
   "cell_type": "code",
   "execution_count": 41,
   "metadata": {},
   "outputs": [
    {
     "data": {
      "text/plain": [
       "(2, 3, 2, 2, 4)"
      ]
     },
     "execution_count": 41,
     "metadata": {},
     "output_type": "execute_result"
    }
   ],
   "source": [
    "e.shape"
   ]
  },
  {
   "cell_type": "code",
   "execution_count": 44,
   "metadata": {},
   "outputs": [
    {
     "data": {
      "text/plain": [
       "<tf.Tensor 'truediv_2:0' shape=(2, 3, 2, 2, 4) dtype=float64>"
      ]
     },
     "execution_count": 44,
     "metadata": {},
     "output_type": "execute_result"
    }
   ],
   "source": [
    "normalize(e)"
   ]
  },
  {
   "cell_type": "code",
   "execution_count": 49,
   "metadata": {},
   "outputs": [],
   "source": [
    "sess = tf.Session()\n",
    "with sess.as_default():\n",
    "    ans = normalize(e).eval()"
   ]
  },
  {
   "cell_type": "code",
   "execution_count": 50,
   "metadata": {},
   "outputs": [
    {
     "data": {
      "text/plain": [
       "(2, 3, 2, 2, 4)"
      ]
     },
     "execution_count": 50,
     "metadata": {},
     "output_type": "execute_result"
    }
   ],
   "source": [
    "ans.shape"
   ]
  },
  {
   "cell_type": "code",
   "execution_count": 51,
   "metadata": {},
   "outputs": [
    {
     "data": {
      "text/plain": [
       "array([[[[[-1.        , -0.4       , -0.25      , -0.19047619],\n",
       "          [-1.        , -0.4       , -0.25      , -0.19047619]],\n",
       "\n",
       "         [[-0.5       , -0.2       , -0.125     , -0.0952381 ],\n",
       "          [-0.5       , -0.2       , -0.125     , -0.0952381 ]]],\n",
       "\n",
       "\n",
       "        [[[ 0.        ,  0.        ,  0.        ,  0.        ],\n",
       "          [ 0.        ,  0.        ,  0.        ,  0.        ]],\n",
       "\n",
       "         [[ 1.5       ,  0.6       ,  0.375     ,  0.28571429],\n",
       "          [ 1.5       ,  0.6       ,  0.375     ,  0.28571429]]],\n",
       "\n",
       "\n",
       "        [[[-0.5       , -0.2       , -0.125     , -0.0952381 ],\n",
       "          [-0.5       , -0.2       , -0.125     , -0.0952381 ]],\n",
       "\n",
       "         [[ 0.5       ,  0.2       ,  0.125     ,  0.0952381 ],\n",
       "          [ 0.5       ,  0.2       ,  0.125     ,  0.0952381 ]]]],\n",
       "\n",
       "\n",
       "\n",
       "       [[[[-0.15151515, -0.07518797, -0.05      , -0.03752345],\n",
       "          [-0.15151515, -0.07518797, -0.05      , -0.03752345]],\n",
       "\n",
       "         [[-0.07575758, -0.03759398, -0.025     , -0.01876173],\n",
       "          [-0.07575758, -0.03759398, -0.025     , -0.01876173]]],\n",
       "\n",
       "\n",
       "        [[[ 0.        ,  0.        ,  0.        ,  0.        ],\n",
       "          [ 0.        ,  0.        ,  0.        ,  0.        ]],\n",
       "\n",
       "         [[ 0.22727273,  0.11278195,  0.075     ,  0.05628518],\n",
       "          [ 0.22727273,  0.11278195,  0.075     ,  0.05628518]]],\n",
       "\n",
       "\n",
       "        [[[-0.07575758, -0.03759398, -0.025     , -0.01876173],\n",
       "          [-0.07575758, -0.03759398, -0.025     , -0.01876173]],\n",
       "\n",
       "         [[ 0.07575758,  0.03759398,  0.025     ,  0.01876173],\n",
       "          [ 0.07575758,  0.03759398,  0.025     ,  0.01876173]]]]])"
      ]
     },
     "execution_count": 51,
     "metadata": {},
     "output_type": "execute_result"
    }
   ],
   "source": [
    "ans"
   ]
  },
  {
   "cell_type": "code",
   "execution_count": 52,
   "metadata": {},
   "outputs": [
    {
     "data": {
      "text/plain": [
       "array([[[[[  1,   2,   3,   4],\n",
       "          [  1,   2,   3,   4]],\n",
       "\n",
       "         [[  2,   4,   6,   8],\n",
       "          [  2,   4,   6,   8]]],\n",
       "\n",
       "\n",
       "        [[[  3,   6,   9,  12],\n",
       "          [  3,   6,   9,  12]],\n",
       "\n",
       "         [[  6,  12,  18,  24],\n",
       "          [  6,  12,  18,  24]]],\n",
       "\n",
       "\n",
       "        [[[  2,   4,   6,   8],\n",
       "          [  2,   4,   6,   8]],\n",
       "\n",
       "         [[  4,   8,  12,  16],\n",
       "          [  4,   8,  12,  16]]]],\n",
       "\n",
       "\n",
       "\n",
       "       [[[[  5,  10,  15,  20],\n",
       "          [  5,  10,  15,  20]],\n",
       "\n",
       "         [[ 10,  20,  30,  40],\n",
       "          [ 10,  20,  30,  40]]],\n",
       "\n",
       "\n",
       "        [[[ 15,  30,  45,  60],\n",
       "          [ 15,  30,  45,  60]],\n",
       "\n",
       "         [[ 30,  60,  90, 120],\n",
       "          [ 30,  60,  90, 120]]],\n",
       "\n",
       "\n",
       "        [[[ 10,  20,  30,  40],\n",
       "          [ 10,  20,  30,  40]],\n",
       "\n",
       "         [[ 20,  40,  60,  80],\n",
       "          [ 20,  40,  60,  80]]]]])"
      ]
     },
     "execution_count": 52,
     "metadata": {},
     "output_type": "execute_result"
    }
   ],
   "source": [
    "e"
   ]
  },
  {
   "cell_type": "code",
   "execution_count": null,
   "metadata": {
    "collapsed": true
   },
   "outputs": [],
   "source": []
  }
 ],
 "metadata": {
  "kernelspec": {
   "display_name": "Python 3",
   "language": "python",
   "name": "python3"
  }
 },
 "nbformat": 4,
 "nbformat_minor": 2
}
