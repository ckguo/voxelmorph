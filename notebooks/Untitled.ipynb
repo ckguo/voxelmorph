{
 "cells": [
  {
   "cell_type": "code",
   "execution_count": 1,
   "metadata": {},
   "outputs": [
    {
     "data": {
      "text/html": [
       "<style>.container { width:100% !important; }</style>"
      ],
      "text/plain": [
       "<IPython.core.display.HTML object>"
      ]
     },
     "metadata": {},
     "output_type": "display_data"
    }
   ],
   "source": [
    "from IPython.core.display import display, HTML\n",
    "display(HTML(\"<style>.container { width:100% !important; }</style>\"))\n",
    "%matplotlib inline\n"
   ]
  },
  {
   "cell_type": "code",
   "execution_count": 47,
   "metadata": {},
   "outputs": [],
   "source": [
    "import sys\n",
    "sys.path.append('/home/courtney/voxelmorph/src')\n",
    "\n",
    "import numpy as np\n",
    "import tensorflow as tf\n",
    "from losses import normalize"
   ]
  },
  {
   "cell_type": "code",
   "execution_count": 54,
   "metadata": {
    "collapsed": true
   },
   "outputs": [],
   "source": [
    "def normalize(features):\n",
    "    mean = tf.reduce_mean(features, axis=(1, 2, 3), keepdims=True)\n",
    "    var = tf.reduce_mean(tf.square(features - mean), axis=(1,2,3), keepdims=True)\n",
    "    return (features - mean)/var"
   ]
  },
  {
   "cell_type": "code",
   "execution_count": 23,
   "metadata": {
    "collapsed": true
   },
   "outputs": [],
   "source": [
    "a = [[1, 2, 3, 4], [1, 2, 3, 4]]"
   ]
  },
  {
   "cell_type": "code",
   "execution_count": 30,
   "metadata": {},
   "outputs": [],
   "source": [
    "b = np.array(a)*2"
   ]
  },
  {
   "cell_type": "code",
   "execution_count": 33,
   "metadata": {},
   "outputs": [],
   "source": [
    "c = np.array([a, b])"
   ]
  },
  {
   "cell_type": "code",
   "execution_count": 37,
   "metadata": {},
   "outputs": [
    {
     "data": {
      "text/plain": [
       "(3, 2, 2, 4)"
      ]
     },
     "execution_count": 37,
     "metadata": {},
     "output_type": "execute_result"
    }
   ],
   "source": [
    "d = np.array([c, 3*c, 2*c])\n",
    "d.shape"
   ]
  },
  {
   "cell_type": "code",
   "execution_count": 61,
   "metadata": {},
   "outputs": [],
   "source": [
    "e = np.array([d])"
   ]
  },
  {
   "cell_type": "code",
   "execution_count": 62,
   "metadata": {},
   "outputs": [
    {
     "data": {
      "text/plain": [
       "(1, 3, 2, 2, 4)"
      ]
     },
     "execution_count": 62,
     "metadata": {},
     "output_type": "execute_result"
    }
   ],
   "source": [
    "e.shape"
   ]
  },
  {
   "cell_type": "code",
   "execution_count": 44,
   "metadata": {},
   "outputs": [
    {
     "data": {
      "text/plain": [
       "<tf.Tensor 'truediv_2:0' shape=(2, 3, 2, 2, 4) dtype=float64>"
      ]
     },
     "execution_count": 44,
     "metadata": {},
     "output_type": "execute_result"
    }
   ],
   "source": [
    "normalize(e)"
   ]
  },
  {
   "cell_type": "code",
   "execution_count": 64,
   "metadata": {},
   "outputs": [],
   "source": [
    "sess = tf.Session()\n",
    "with sess.as_default():\n",
    "    ans = normalize(e).eval()"
   ]
  },
  {
   "cell_type": "code",
   "execution_count": 65,
   "metadata": {},
   "outputs": [
    {
     "data": {
      "text/plain": [
       "(1, 3, 2, 2, 4)"
      ]
     },
     "execution_count": 65,
     "metadata": {},
     "output_type": "execute_result"
    }
   ],
   "source": [
    "ans.shape"
   ]
  },
  {
   "cell_type": "code",
   "execution_count": 63,
   "metadata": {},
   "outputs": [
    {
     "data": {
      "text/plain": [
       "array([[[[[ 1,  2,  3,  4],\n",
       "          [ 1,  2,  3,  4]],\n",
       "\n",
       "         [[ 2,  4,  6,  8],\n",
       "          [ 2,  4,  6,  8]]],\n",
       "\n",
       "\n",
       "        [[[ 3,  6,  9, 12],\n",
       "          [ 3,  6,  9, 12]],\n",
       "\n",
       "         [[ 6, 12, 18, 24],\n",
       "          [ 6, 12, 18, 24]]],\n",
       "\n",
       "\n",
       "        [[[ 2,  4,  6,  8],\n",
       "          [ 2,  4,  6,  8]],\n",
       "\n",
       "         [[ 4,  8, 12, 16],\n",
       "          [ 4,  8, 12, 16]]]]])"
      ]
     },
     "execution_count": 63,
     "metadata": {},
     "output_type": "execute_result"
    }
   ],
   "source": [
    "e"
   ]
  },
  {
   "cell_type": "code",
   "execution_count": 66,
   "metadata": {},
   "outputs": [
    {
     "data": {
      "text/plain": [
       "array([[[[[-1.        , -0.4       , -0.25      , -0.19047619],\n",
       "          [-1.        , -0.4       , -0.25      , -0.19047619]],\n",
       "\n",
       "         [[-0.5       , -0.2       , -0.125     , -0.0952381 ],\n",
       "          [-0.5       , -0.2       , -0.125     , -0.0952381 ]]],\n",
       "\n",
       "\n",
       "        [[[ 0.        ,  0.        ,  0.        ,  0.        ],\n",
       "          [ 0.        ,  0.        ,  0.        ,  0.        ]],\n",
       "\n",
       "         [[ 1.5       ,  0.6       ,  0.375     ,  0.28571429],\n",
       "          [ 1.5       ,  0.6       ,  0.375     ,  0.28571429]]],\n",
       "\n",
       "\n",
       "        [[[-0.5       , -0.2       , -0.125     , -0.0952381 ],\n",
       "          [-0.5       , -0.2       , -0.125     , -0.0952381 ]],\n",
       "\n",
       "         [[ 0.5       ,  0.2       ,  0.125     ,  0.0952381 ],\n",
       "          [ 0.5       ,  0.2       ,  0.125     ,  0.0952381 ]]]]])"
      ]
     },
     "execution_count": 66,
     "metadata": {},
     "output_type": "execute_result"
    }
   ],
   "source": [
    "ans"
   ]
  },
  {
   "cell_type": "code",
   "execution_count": 56,
   "metadata": {},
   "outputs": [],
   "source": [
    "mean = tf.reduce_mean(e, axis=(1, 2, 3), keepdims=True)\n"
   ]
  },
  {
   "cell_type": "code",
   "execution_count": 57,
   "metadata": {},
   "outputs": [
    {
     "data": {
      "text/plain": [
       "<tf.Tensor 'Mean_11:0' shape=(2, 1, 1, 1, 4) dtype=int64>"
      ]
     },
     "execution_count": 57,
     "metadata": {},
     "output_type": "execute_result"
    }
   ],
   "source": [
    "mean"
   ]
  },
  {
   "cell_type": "code",
   "execution_count": 59,
   "metadata": {},
   "outputs": [
    {
     "data": {
      "text/plain": [
       "<tf.Tensor 'Mean_12:0' shape=(2, 1, 1, 1, 4) dtype=int64>"
      ]
     },
     "execution_count": 59,
     "metadata": {},
     "output_type": "execute_result"
    }
   ],
   "source": [
    "var = tf.reduce_mean(tf.square(e - mean), axis=(1,2,3), keepdims=True)\n",
    "var"
   ]
  },
  {
   "cell_type": "code",
   "execution_count": null,
   "metadata": {
    "collapsed": true
   },
   "outputs": [],
   "source": [
    "tf.sqrt()"
   ]
  }
 ],
 "metadata": {
  "kernelspec": {
   "display_name": "Python 3",
   "language": "python",
   "name": "python3"
  }
 },
 "nbformat": 4,
 "nbformat_minor": 2
}
