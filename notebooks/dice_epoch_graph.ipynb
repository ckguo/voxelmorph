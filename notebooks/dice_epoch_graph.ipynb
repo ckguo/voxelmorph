{
 "cells": [
  {
   "cell_type": "code",
   "execution_count": 1,
   "metadata": {},
   "outputs": [
    {
     "data": {
      "text/html": [
       "<style>.container { width:100% !important; }</style>"
      ],
      "text/plain": [
       "<IPython.core.display.HTML object>"
      ]
     },
     "metadata": {},
     "output_type": "display_data"
    }
   ],
   "source": [
    "from IPython.core.display import display, HTML\n",
    "display(HTML(\"<style>.container { width:100% !important; }</style>\"))\n",
    "%matplotlib inline\n"
   ]
  },
  {
   "cell_type": "code",
   "execution_count": 2,
   "metadata": {},
   "outputs": [
    {
     "name": "stderr",
     "output_type": "stream",
     "text": [
      "Using TensorFlow backend.\n"
     ]
    }
   ],
   "source": [
    "import sys\n",
    "sys.path.append('/home/courtney/voxelmorph/src')\n",
    "import os\n",
    "import glob\n",
    "import sys\n",
    "import random\n",
    "from argparse import ArgumentParser\n",
    "import time\n",
    "\n",
    "# third-party imports\n",
    "import tensorflow as tf\n",
    "import numpy as np\n",
    "from keras.backend.tensorflow_backend import set_session\n",
    "from keras.optimizers import Adam\n",
    "from keras.models import load_model, Model\n",
    "from keras.losses import mean_squared_error\n",
    "import keras.backend as K\n",
    "from neuron.plot import slices\n",
    "import scipy.io as sio\n",
    "from scipy.interpolate import interpn\n",
    "import matplotlib.pyplot as plt\n",
    "\n",
    "# project imports\n",
    "sys.path.append('../ext/medipy-lib')\n",
    "import medipy\n",
    "import networks\n",
    "from medipy.metrics import dice\n",
    "import datagenerators\n",
    "import losses\n",
    "from restrict import restrict_GPU_tf, restrict_GPU_keras"
   ]
  },
  {
   "cell_type": "code",
   "execution_count": 3,
   "metadata": {
    "collapsed": true
   },
   "outputs": [],
   "source": [
    "def restrict_GPU_tf(gpuid, memfrac=0, use_cpu=False):\n",
    "    \"\"\"\n",
    "        gpuid: str, comma separated list \"0\" or \"0,1\" or even \"0,1,3\"\n",
    "        memfrac: float, fraction of memory. By default grows dynamically\n",
    "    \"\"\"\n",
    "    if not use_cpu:\n",
    "        os.environ[\"CUDA_VISIBLE_DEVICES\"] = gpuid\n",
    "\n",
    "        config = tf.ConfigProto()\n",
    "        if memfrac == 0:\n",
    "            config.gpu_options.allow_growth = True\n",
    "        else:\n",
    "            config.gpu_options.per_process_gpu_memory_fraction = memfrac\n",
    "        tf.Session(config=config)\n",
    "        print(\"Using GPU:{} with {:.0f}% of the memory\".format(gpuid, memfrac*100))\n",
    "    else:\n",
    "        os.environ[\"CUDA_VISIBLE_DEVICES\"] = \"\"\n",
    "        print(\"Using CPU\")"
   ]
  },
  {
   "cell_type": "code",
   "execution_count": 4,
   "metadata": {
    "collapsed": true
   },
   "outputs": [],
   "source": [
    "# Keras \n",
    "def restrict_GPU_keras(gpuid, memfrac=0, use_cpu=False):\n",
    "    \"\"\"\n",
    "        gpuid: str, comma separated list \"0\" or \"0,1\" or even \"0,1,3\"\n",
    "        memfrac: float, fraction of memory. By default grows dynamically\n",
    "    \"\"\"\n",
    "    if not use_cpu:\n",
    "        os.environ[\"CUDA_VISIBLE_DEVICES\"] = gpuid\n",
    "\n",
    "        config = tf.ConfigProto()\n",
    "        if memfrac == 0:\n",
    "            config.gpu_options.allow_growth = True\n",
    "        else:\n",
    "            config.gpu_options.per_process_gpu_memory_fraction = memfrac\n",
    "        set_session(tf.Session(config=config))\n",
    "        print(\"Using GPU:{} with {:.0f}% of the memory\".format(gpuid, memfrac*100))\n",
    "    else:\n",
    "        os.environ[\"CUDA_VISIBLE_DEVICES\"] = \"\"\n",
    "        print(\"Using CPU\")"
   ]
  },
  {
   "cell_type": "code",
   "execution_count": 5,
   "metadata": {},
   "outputs": [],
   "source": [
    "test_brain_file = open('../src/val_files.txt')\n",
    "test_brain_strings = test_brain_file.readlines()\n",
    "test_brain_strings = [x.strip() for x in test_brain_strings]\n",
    "n_batches = len(test_brain_strings)\n",
    "good_labels = sio.loadmat('../data/labels.mat')['labels'][0]\n",
    "\n",
    "model_name = 'mi_inverted_reg1'\n",
    "iter_num = 25000\n",
    "n_test = 10\n",
    "\n",
    "gpu_id = 3"
   ]
  },
  {
   "cell_type": "code",
   "execution_count": 6,
   "metadata": {},
   "outputs": [
    {
     "name": "stdout",
     "output_type": "stream",
     "text": [
      "Using GPU:3 with 0% of the memory\n",
      "Using GPU:3 with 0% of the memory\n"
     ]
    }
   ],
   "source": [
    "gpu = '/gpu:' + str(gpu_id)\n",
    "#     print(gpu)\n",
    "os.environ['TF_CPP_MIN_LOG_LEVEL'] = '3' \n",
    "\n",
    "restrict_GPU_tf(str(gpu_id))\n",
    "restrict_GPU_keras(str(gpu_id))\n",
    "\n",
    "config = tf.ConfigProto()\n",
    "config.gpu_options.allow_growth = True\n",
    "config.allow_soft_placement = True\n",
    "set_session(tf.Session(config=config))\n",
    "\n",
    "vol_size=(160,192,224)\n",
    "\n",
    "# Anatomical labels we want to evaluate\n",
    "labels = sio.loadmat('../data/labels.mat')['labels'][0]\n",
    "\n",
    "atlas = np.load('../data/atlas_norm.npz')\n",
    "atlas_vol = atlas['vol']\n",
    "atlas_seg = atlas['seg']\n",
    "atlas_vol = np.reshape(atlas_vol, (1,)+atlas_vol.shape+(1,))\n",
    "\n",
    "xx = np.arange(vol_size[1])\n",
    "yy = np.arange(vol_size[0])\n",
    "zz = np.arange(vol_size[2])\n",
    "grid = np.rollaxis(np.array(np.meshgrid(xx, yy, zz)), 0, 4)\n",
    "\n",
    "images = []\n",
    "for step in range(0, n_test):\n",
    "    vol_name, seg_name = test_brain_strings[step].split(\",\")\n",
    "    X_vol, X_seg = datagenerators.load_example_by_name(vol_name, seg_name)\n",
    "    images.append([X_vol, X_seg])\n",
    "    \n",
    "sz = atlas_seg.shape\n",
    "z_inp1 = tf.placeholder(tf.float32, sz)\n",
    "z_inp2 = tf.placeholder(tf.float32, sz)\n",
    "z_out = losses.kdice(z_inp1, z_inp2, good_labels)\n",
    "kdice_fn = K.function([z_inp1, z_inp2], [z_out])\n",
    "\n",
    "nn_trf_model = networks.nn_trf(vol_size)\n"
   ]
  },
  {
   "cell_type": "code",
   "execution_count": 11,
   "metadata": {
    "collapsed": true
   },
   "outputs": [],
   "source": [
    "def test(model_name, iter_num, gpu_id, n_test, invert_images, max_clip, vol_size=(160,192,224), nf_enc=[16,32,32,32], nf_dec=[32,32,32,32,32,16,16]):\n",
    "    start_time = time.time()\n",
    "\n",
    "    \n",
    "    # load weights of model\n",
    "    with tf.device(gpu):\n",
    "        net = networks.unet(vol_size, nf_enc, nf_dec)\n",
    "        net.load_weights('../models/' + model_name +\n",
    "                         '/' + str(iter_num) + '.h5')\n",
    "\n",
    "    dice_means = []\n",
    "    dice_stds = []\n",
    "    \n",
    "    print('model loaded', time.time()-start_time)\n",
    "    for step in range(0, n_test):\n",
    "\n",
    "        X_vol, X_seg = images[step]\n",
    "\n",
    "        if invert_images:\n",
    "            X_vol = max_clip - X_vol\n",
    "\n",
    "        with tf.device(gpu):\n",
    "            pred = net.predict([X_vol, atlas_vol])\n",
    "\n",
    "            # Warp segments with flow\n",
    "            warp_seg = nn_trf_model.predict([X_seg, pred[1]])\n",
    "\n",
    "    #         warp_seg = interpn((yy, xx, zz), X_seg[0, :, :, :, 0], sample, method='nearest', bounds_error=False, fill_value=0)\n",
    "            vals = np.mean(kdice_fn([warp_seg[0,:,:,:,0], atlas_seg]))\n",
    "            # print(np.mean(vals), np.std(vals))\n",
    "            mean = np.mean(vals)\n",
    "            std = np.std(vals)\n",
    "            dice_means.append(mean)\n",
    "            dice_stds.append(std)\n",
    "#         print(step, mean, std)\n",
    "\n",
    "    print('tested patients', time.time()-start_time)\n",
    "    return np.mean(dice_means)"
   ]
  },
  {
   "cell_type": "code",
   "execution_count": 11,
   "metadata": {},
   "outputs": [],
   "source": [
    "def create_graph(model_name, iter_num, step_size, gpu_id, n_test, invert_images=False, max_clip=0.7):    \n",
    "    test_brain_file = open('../src/val_files.txt')\n",
    "    test_brain_strings = test_brain_file.readlines()\n",
    "    test_brain_strings = [x.strip() for x in test_brain_strings]\n",
    "    n_batches = len(test_brain_strings)\n",
    "    good_labels = sio.loadmat('../data/labels.mat')['labels'][0]\n",
    "    \n",
    "    # setup\n",
    "    gpu = '/gpu:' + str(gpu_id)\n",
    "    #     print(gpu)\n",
    "    os.environ['TF_CPP_MIN_LOG_LEVEL'] = '3' \n",
    "\n",
    "    restrict_GPU_tf(str(gpu_id))\n",
    "    restrict_GPU_keras(str(gpu_id))\n",
    "\n",
    "    config = tf.ConfigProto()\n",
    "    config.gpu_options.allow_growth = True\n",
    "    config.allow_soft_placement = True\n",
    "    set_session(tf.Session(config=config))\n",
    "\n",
    "    vol_size=(160,192,224)\n",
    "    nf_enc=[16,32,32,32]\n",
    "    nf_dec=[32,32,32,32,32,16,16]\n",
    "    \n",
    "    atlas = np.load('../data/atlas_norm.npz')\n",
    "    atlas_vol = atlas['vol']\n",
    "    atlas_seg = atlas['seg']\n",
    "    atlas_vol = np.reshape(atlas_vol, (1,)+atlas_vol.shape+(1,))\n",
    "\n",
    "    images = []\n",
    "    for step in range(0, n_test):\n",
    "        vol_name, seg_name = test_brain_strings[step].split(\",\")\n",
    "        X_vol, X_seg = datagenerators.load_example_by_name(vol_name, seg_name)\n",
    "        images.append([X_vol, X_seg])\n",
    "\n",
    "    sz = atlas_seg.shape\n",
    "    z_inp1 = tf.placeholder(tf.float32, sz)\n",
    "    z_inp2 = tf.placeholder(tf.float32, sz)\n",
    "    z_out = losses.kdice(z_inp1, z_inp2, good_labels)\n",
    "    kdice_fn = K.function([z_inp1, z_inp2], [z_out])\n",
    "\n",
    "    nn_trf_model = networks.nn_trf(vol_size)\n",
    "    \n",
    "    dices = []\n",
    "    for i in range(iter_num//step_size + 1):\n",
    "        print(i)\n",
    "        start_time = time.time()\n",
    "\n",
    "        # load weights of model\n",
    "        with tf.device(gpu):\n",
    "            net = networks.unet(vol_size, nf_enc, nf_dec)\n",
    "            net.load_weights('../models/' + model_name +\n",
    "                             '/' + str(i*step_size) + '.h5')\n",
    "\n",
    "        print('model loaded', time.time()-start_time)\n",
    "        dice_means = []\n",
    "\n",
    "        for step in range(0, n_test):\n",
    "            X_vol, X_seg = images[step]\n",
    "            if invert_images:\n",
    "                X_vol = max_clip - X_vol\n",
    "\n",
    "            with tf.device(gpu):\n",
    "                pred = net.predict([X_vol, atlas_vol])\n",
    "                warp_seg = nn_trf_model.predict([X_seg, pred[1]])\n",
    "                mean = np.mean(kdice_fn([warp_seg[0,:,:,:,0], atlas_seg]))\n",
    "                dice_means.append(mean)\n",
    "\n",
    "        print('tested patients', time.time()-start_time)\n",
    "        dices.append(np.mean(dice_means))\n",
    "    return dices"
   ]
  },
  {
   "cell_type": "code",
   "execution_count": 13,
   "metadata": {},
   "outputs": [
    {
     "name": "stdout",
     "output_type": "stream",
     "text": [
      "Using GPU:3 with 0% of the memory\n",
      "Using GPU:3 with 0% of the memory\n",
      "0\n",
      "model loaded 2.1800625324249268\n",
      "tested patients 28.887739896774292\n",
      "1\n",
      "model loaded 2.365412950515747\n",
      "tested patients 23.247809886932373\n",
      "2\n",
      "model loaded 2.165696859359741\n",
      "tested patients 22.578071117401123\n",
      "3\n",
      "model loaded 2.462891101837158\n",
      "tested patients 23.461572408676147\n",
      "4\n",
      "model loaded 2.874297857284546\n",
      "tested patients 23.002496480941772\n",
      "5\n",
      "model loaded 2.5351145267486572\n",
      "tested patients 23.382744312286377\n",
      "6\n",
      "model loaded 2.214392900466919\n",
      "tested patients 22.595545291900635\n",
      "7\n",
      "model loaded 2.880725145339966\n",
      "tested patients 23.589504718780518\n",
      "8\n",
      "model loaded 3.0526821613311768\n",
      "tested patients 23.71456789970398\n",
      "9\n",
      "model loaded 2.8240880966186523\n",
      "tested patients 23.372472763061523\n",
      "10\n",
      "model loaded 2.937026262283325\n",
      "tested patients 23.92954659461975\n",
      "11\n",
      "model loaded 3.401885986328125\n",
      "tested patients 23.95422673225403\n",
      "12\n",
      "model loaded 3.01810884475708\n",
      "tested patients 23.713684797286987\n",
      "13\n",
      "model loaded 2.977440118789673\n",
      "tested patients 23.779866695404053\n",
      "14\n",
      "model loaded 3.300156354904175\n",
      "tested patients 24.65409779548645\n",
      "15\n",
      "model loaded 2.981518030166626\n",
      "tested patients 23.750879287719727\n",
      "16\n",
      "model loaded 3.524937629699707\n",
      "tested patients 24.252935647964478\n",
      "17\n",
      "model loaded 3.651937246322632\n",
      "tested patients 24.719367504119873\n",
      "18\n",
      "model loaded 3.3819727897644043\n",
      "tested patients 23.727184295654297\n",
      "19\n",
      "model loaded 3.9330716133117676\n",
      "tested patients 25.30923295021057\n",
      "20\n",
      "model loaded 3.5390114784240723\n",
      "tested patients 24.78689956665039\n",
      "21\n",
      "model loaded 3.5090157985687256\n",
      "tested patients 25.009543657302856\n",
      "22\n",
      "model loaded 3.6249399185180664\n",
      "tested patients 24.79270839691162\n",
      "23\n",
      "model loaded 3.899005889892578\n",
      "tested patients 25.82540512084961\n",
      "24\n",
      "model loaded 4.124449968338013\n",
      "tested patients 25.678850173950195\n",
      "25\n",
      "model loaded 4.10939359664917\n",
      "tested patients 26.196507453918457\n"
     ]
    }
   ],
   "source": [
    "dices = create_graph('mi_inverted_reg1', 25000, 1000, 3, 10, invert_images=True)"
   ]
  },
  {
   "cell_type": "code",
   "execution_count": 18,
   "metadata": {},
   "outputs": [
    {
     "data": {
      "text/plain": [
       "[<matplotlib.lines.Line2D at 0x7ff6fce89518>]"
      ]
     },
     "execution_count": 18,
     "metadata": {},
     "output_type": "execute_result"
    },
    {
     "data": {
      "image/png": "[encoded data removed]",
      "text/plain": [
       "<matplotlib.figure.Figure at 0x7ff724db8080>"
      ]
     },
     "metadata": {},
     "output_type": "display_data"
    }
   ],
   "source": [
    "plt.plot(np.linspace(0, 25000, 26), dices)"
   ]
  },
  {
   "cell_type": "code",
   "execution_count": 21,
   "metadata": {},
   "outputs": [
    {
     "name": "stdout",
     "output_type": "stream",
     "text": [
      "0\n",
      "1\n",
      "2\n",
      "3\n",
      "4\n",
      "5\n",
      "CPU times: user 8min 49s, sys: 1min 10s, total: 10min\n",
      "Wall time: 6min 28s\n"
     ]
    }
   ],
   "source": [
    "%%time\n",
    "dices = []\n",
    "step_size = 5000\n",
    "for i in range(25000//step_size + 1):\n",
    "    print(i)\n",
    "    dices.append(test(model_name, i*step_size, gpu_id, 10, True, 0.7))"
   ]
  },
  {
   "cell_type": "code",
   "execution_count": 28,
   "metadata": {},
   "outputs": [
    {
     "name": "stdout",
     "output_type": "stream",
     "text": [
      "0\n",
      "1\n",
      "2\n",
      "3\n",
      "4\n",
      "5\n",
      "6\n",
      "7\n",
      "8\n",
      "CPU times: user 13min 28s, sys: 2min 13s, total: 15min 41s\n",
      "Wall time: 10min 17s\n"
     ]
    }
   ],
   "source": [
    "%%time\n",
    "dices_2 = []\n",
    "step_size = 5000\n",
    "for i in range(iter_num//step_size + 1):\n",
    "    print(i)\n",
    "    dices_2.append(test(model_name, i*step_size, gpu_id, 10, False, 0.7))"
   ]
  },
  {
   "cell_type": "code",
   "execution_count": 30,
   "metadata": {},
   "outputs": [
    {
     "data": {
      "text/plain": [
       "[<matplotlib.lines.Line2D at 0x7f1c483129e8>]"
      ]
     },
     "execution_count": 30,
     "metadata": {},
     "output_type": "execute_result"
    },
    {
     "data": {
      "image/png": "[encoded data removed]",
      "text/plain": [
       "<matplotlib.figure.Figure at 0x7f1c482d4940>"
      ]
     },
     "metadata": {},
     "output_type": "display_data"
    }
   ],
   "source": [
    "plt.plot([i*step_size for i in range(iter_num//step_size + 1)], dices_2)"
   ]
  },
  {
   "cell_type": "code",
   "execution_count": 31,
   "metadata": {},
   "outputs": [
    {
     "data": {
      "text/plain": [
       "[<matplotlib.lines.Line2D at 0x7f1c4820a828>]"
      ]
     },
     "execution_count": 31,
     "metadata": {},
     "output_type": "execute_result"
    },
    {
     "data": {
      "image/png": "[encoded data removed]",
      "text/plain": [
       "<matplotlib.figure.Figure at 0x7f1c48348a58>"
      ]
     },
     "metadata": {},
     "output_type": "display_data"
    }
   ],
   "source": [
    "plt.plot([i*step_size for i in range(25000//step_size + 1)], dices)"
   ]
  },
  {
   "cell_type": "code",
   "execution_count": null,
   "metadata": {
    "collapsed": true
   },
   "outputs": [],
   "source": []
  }
 ],
 "metadata": {
  "kernelspec": {
   "display_name": "Python 3",
   "language": "python",
   "name": "python3"
  },
  "language_info": {
   "codemirror_mode": {
    "name": "ipython",
    "version": 3
   },
   "file_extension": ".py",
   "mimetype": "text/x-python",
   "name": "python",
   "nbconvert_exporter": "python",
   "pygments_lexer": "ipython3",
   "version": "3.6.3"
  }
 },
 "nbformat": 4,
 "nbformat_minor": 2
}
